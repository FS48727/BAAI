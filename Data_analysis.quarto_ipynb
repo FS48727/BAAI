{
  "cells": [
    {
      "cell_type": "markdown",
      "metadata": {},
      "source": [
        "---\n",
        "title: \"Data Analysis\"\n",
        "author: \"Frederik Salomon\"\n",
        "toc: true\n",
        "institute: \"WWU\"\n",
        "number-sections: true\n",
        "format:\n",
        "    html:\n",
        "      embed-resources: true\n",
        "---\n",
        "\n",
        "\n",
        "## Key Points \n",
        "\n",
        "- Key Points\n",
        "- Data inspection\n",
        "  - Structure\n",
        "  - Value\n",
        "- Data clearing\n",
        "  - Dealing with missing data\n",
        "  - Detecting outliers\n",
        "- Data transformation\n",
        "  - Ecoding\n",
        "\n",
        "## Load Data \n",
        "\n",
        "Load dataset from CSV file into `df` using Pandas package.\n"
      ],
      "id": "81b86855"
    },
    {
      "cell_type": "code",
      "metadata": {},
      "source": [
        "import pandas as pd\n",
        "df = pd.read_csv('customer_data.csv')"
      ],
      "id": "961c198c",
      "execution_count": null,
      "outputs": []
    },
    {
      "cell_type": "markdown",
      "metadata": {},
      "source": [
        "- Where is `customer_data.csv`?\n",
        "\n",
        "## Data Inspection\n",
        "- Structure\n",
        "  - Dimension of dataset\n",
        "  - Column data type\n",
        "- Value\n",
        "  - Missing value\n",
        "  - Outliers\n",
        "\n",
        "### Dimension of dataset\n",
        "- How many rows and columns?\n"
      ],
      "id": "bfa11289"
    },
    {
      "cell_type": "code",
      "metadata": {},
      "source": [
        "df.shape"
      ],
      "id": "503b2ac9",
      "execution_count": null,
      "outputs": []
    },
    {
      "cell_type": "markdown",
      "metadata": {},
      "source": [
        "### Column data type\n"
      ],
      "id": "3fa7adfb"
    },
    {
      "cell_type": "code",
      "metadata": {},
      "source": [
        "df.info()"
      ],
      "id": "3a21ad6a",
      "execution_count": null,
      "outputs": []
    },
    {
      "cell_type": "markdown",
      "metadata": {},
      "source": [
        "## Check first few rows\n"
      ],
      "id": "6938f47d"
    },
    {
      "cell_type": "code",
      "metadata": {},
      "source": [
        "df.head()"
      ],
      "id": "937e7e1d",
      "execution_count": null,
      "outputs": []
    },
    {
      "cell_type": "markdown",
      "metadata": {},
      "source": [
        "## Check last few rows\n"
      ],
      "id": "6848f5a0"
    },
    {
      "cell_type": "code",
      "metadata": {},
      "source": [
        "df.tail()"
      ],
      "id": "dd220ee6",
      "execution_count": null,
      "outputs": []
    },
    {
      "cell_type": "markdown",
      "metadata": {},
      "source": [
        "## Basic statistics\n"
      ],
      "id": "7f1a50fb"
    },
    {
      "cell_type": "code",
      "metadata": {},
      "source": [
        "df.describe()"
      ],
      "id": "f6df1ae8",
      "execution_count": null,
      "outputs": []
    },
    {
      "cell_type": "markdown",
      "metadata": {},
      "source": [
        "## Round to 2 decimal points\n"
      ],
      "id": "6d8fd8a9"
    },
    {
      "cell_type": "code",
      "metadata": {},
      "source": [
        "df.describe().round(2)"
      ],
      "id": "476b2809",
      "execution_count": null,
      "outputs": []
    },
    {
      "cell_type": "markdown",
      "metadata": {},
      "source": [
        "## Dataset\n"
      ],
      "id": "555cb30e"
    },
    {
      "cell_type": "code",
      "metadata": {},
      "source": [
        "df.head()"
      ],
      "id": "64a37d56",
      "execution_count": null,
      "outputs": []
    },
    {
      "cell_type": "markdown",
      "metadata": {},
      "source": [
        "## Visualization\n"
      ],
      "id": "2d3977ce"
    },
    {
      "cell_type": "code",
      "metadata": {},
      "source": [
        "import matplotlib.pylab as plt\n",
        "df['Age'].hist()\n",
        "plt.show()"
      ],
      "id": "226f2ffa",
      "execution_count": null,
      "outputs": []
    }
  ],
  "metadata": {
    "kernelspec": {
      "name": "python3",
      "language": "python",
      "display_name": "Python 3 (ipykernel)",
      "path": "C:\\Users\\English\\AppData\\Local\\Programs\\Python\\Python312\\share\\jupyter\\kernels\\python3"
    }
  },
  "nbformat": 4,
  "nbformat_minor": 5
}